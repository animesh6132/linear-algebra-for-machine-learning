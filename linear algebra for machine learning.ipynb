{
 "cells": [
  {
   "cell_type": "markdown",
   "id": "311e7dd3",
   "metadata": {},
   "source": [
    "## vector operations in python - part 1"
   ]
  },
  {
   "cell_type": "code",
   "execution_count": 1,
   "id": "5cf9ec6f",
   "metadata": {},
   "outputs": [],
   "source": [
    "import numpy as np #numrical python \n",
    "import matplotlib.pyplot as plt \n",
    "import seaborn as sns"
   ]
  },
  {
   "cell_type": "code",
   "execution_count": 2,
   "id": "a1401886",
   "metadata": {},
   "outputs": [],
   "source": [
    "sns.set()"
   ]
  },
  {
   "cell_type": "markdown",
   "id": "d7634dd5",
   "metadata": {},
   "source": [
    "## plottting a vector"
   ]
  },
  {
   "cell_type": "code",
   "execution_count": 4,
   "id": "c73f0460",
   "metadata": {},
   "outputs": [
    {
     "data": {
      "image/png": "[encoded data removed]",
      "text/plain": [
       "<Figure size 432x288 with 1 Axes>"
      ]
     },
     "metadata": {},
     "output_type": "display_data"
    }
   ],
   "source": [
    "plt.quiver(0,0,4,5, scale_units = 'xy', angles = 'xy', scale =1)\n",
    "plt.xlim(-8,8)\n",
    "plt.ylim(-8,8)\n",
    "plt.show()"
   ]
  },
  {
   "cell_type": "code",
   "execution_count": 5,
   "id": "ccc326fb",
   "metadata": {},
   "outputs": [
    {
     "data": {
      "image/png": "[encoded data removed]",
      "text/plain": [
       "<Figure size 432x288 with 1 Axes>"
      ]
     },
     "metadata": {},
     "output_type": "display_data"
    }
   ],
   "source": [
    "plt.quiver(0,0,4,5, scale_units = 'xy', angles = 'xy', scale =1, color = 'b')\n",
    "plt.quiver(0,0,-3,-6,scale_units = 'xy', angles = 'xy', scale = 1, color = 'y')\n",
    "plt.xlim(-8,8)\n",
    "plt.ylim(-8,8)\n",
    "plt.show()"
   ]
  },
  {
   "cell_type": "markdown",
   "id": "35e94ad2",
   "metadata": {},
   "source": [
    "## addition of two vectors"
   ]
  },
  {
   "cell_type": "code",
   "execution_count": 72,
   "id": "dff60d3d",
   "metadata": {},
   "outputs": [
    {
     "name": "stdout",
     "output_type": "stream",
     "text": [
      "[0 0 2 3]\n"
     ]
    }
   ],
   "source": [
    "vector_1 = np.array([0,0,2,3])\n",
    "#vector_2 = np.asarray([0,0,3,-2])\n",
    "#sum = vector_1 + vector_2\n",
    "#print(sum)\n",
    "print(vector_1)"
   ]
  },
  {
   "cell_type": "code",
   "execution_count": 7,
   "id": "ebc7b0d8",
   "metadata": {},
   "outputs": [
    {
     "data": {
      "image/png": "[encoded data removed]",
      "text/plain": [
       "<Figure size 432x288 with 1 Axes>"
      ]
     },
     "metadata": {},
     "output_type": "display_data"
    }
   ],
   "source": [
    "plt.quiver(0,0,2,3, scale_units = 'xy', angles = 'xy', scale =1, color = 'b')\n",
    "plt.quiver(0,0,3,-2,scale_units = 'xy', angles = 'xy', scale = 1, color = 'y')\n",
    "plt.quiver(0,0,5,1,scale_units = 'xy', angles = 'xy', scale = 1, color = 'r')\n",
    "\n",
    "plt.xlim(-8,8)\n",
    "plt.ylim(-8,8)\n",
    "plt.show()"
   ]
  },
  {
   "cell_type": "markdown",
   "id": "b369f3ea",
   "metadata": {},
   "source": [
    "working with matrix in python"
   ]
  },
  {
   "cell_type": "code",
   "execution_count": 71,
   "id": "9b9cdd82",
   "metadata": {},
   "outputs": [
    {
     "name": "stdout",
     "output_type": "stream",
     "text": [
      "[[2 3]\n",
      " [6 7]]\n"
     ]
    }
   ],
   "source": [
    "#creating the matrix using the numpy \n",
    "matrix_1 = np.array([[2,3],[6,7]])\n",
    "print(matrix_1)"
   ]
  },
  {
   "cell_type": "code",
   "execution_count": 9,
   "id": "883c8bd3",
   "metadata": {},
   "outputs": [
    {
     "data": {
      "text/plain": [
       "(2, 2)"
      ]
     },
     "execution_count": 9,
     "metadata": {},
     "output_type": "execute_result"
    }
   ],
   "source": [
    "matrix_1.shape"
   ]
  },
  {
   "cell_type": "code",
   "execution_count": 10,
   "id": "a476eac1",
   "metadata": {},
   "outputs": [],
   "source": [
    "matrix_2 = np.array([[2,3,],[4,5],[1,7]])"
   ]
  },
  {
   "cell_type": "code",
   "execution_count": 11,
   "id": "9e3cbbae",
   "metadata": {},
   "outputs": [
    {
     "name": "stdout",
     "output_type": "stream",
     "text": [
      "[[2 3]\n",
      " [4 5]\n",
      " [1 7]]\n"
     ]
    }
   ],
   "source": [
    "print(matrix_2)"
   ]
  },
  {
   "cell_type": "code",
   "execution_count": 13,
   "id": "ae40f588",
   "metadata": {},
   "outputs": [
    {
     "data": {
      "text/plain": [
       "(3, 2)"
      ]
     },
     "execution_count": 13,
     "metadata": {},
     "output_type": "execute_result"
    }
   ],
   "source": [
    "matrix_2.shape"
   ]
  },
  {
   "cell_type": "markdown",
   "id": "f740fd93",
   "metadata": {},
   "source": [
    "creating the matrix with the random values in python\n"
   ]
  },
  {
   "cell_type": "code",
   "execution_count": 14,
   "id": "b3a51a4d",
   "metadata": {},
   "outputs": [],
   "source": [
    "random_matrix = np.random.rand(3,3)"
   ]
  },
  {
   "cell_type": "code",
   "execution_count": 15,
   "id": "d982da98",
   "metadata": {},
   "outputs": [
    {
     "name": "stdout",
     "output_type": "stream",
     "text": [
      "[[0.26013888 0.08057026 0.11569435]\n",
      " [0.44853867 0.82255596 0.11575892]\n",
      " [0.84429932 0.48021913 0.49335992]]\n"
     ]
    }
   ],
   "source": [
    "print(random_matrix)"
   ]
  },
  {
   "cell_type": "markdown",
   "id": "a0ecbd53",
   "metadata": {},
   "source": [
    "creating the matrix with random integers in python"
   ]
  },
  {
   "cell_type": "code",
   "execution_count": 17,
   "id": "a6bdb05f",
   "metadata": {},
   "outputs": [],
   "source": [
    "random_integer_matrix = np.random.randint(100,size = (4,5))"
   ]
  },
  {
   "cell_type": "code",
   "execution_count": 18,
   "id": "1ecc9bde",
   "metadata": {},
   "outputs": [
    {
     "name": "stdout",
     "output_type": "stream",
     "text": [
      "[[31 18 65 86 40]\n",
      " [81 93  9  3 53]\n",
      " [ 8 84 22 12 57]\n",
      " [89 49 95 57 99]]\n"
     ]
    }
   ],
   "source": [
    "print(random_integer_matrix)"
   ]
  },
  {
   "cell_type": "markdown",
   "id": "40900260",
   "metadata": {},
   "source": [
    "matrix with all the values as one"
   ]
  },
  {
   "cell_type": "code",
   "execution_count": 22,
   "id": "4b67f308",
   "metadata": {},
   "outputs": [],
   "source": [
    "matrix_3 = np.ones((2,3), dtype = int)"
   ]
  },
  {
   "cell_type": "code",
   "execution_count": 23,
   "id": "a60579b7",
   "metadata": {},
   "outputs": [
    {
     "name": "stdout",
     "output_type": "stream",
     "text": [
      "[[1 1 1]\n",
      " [1 1 1]]\n"
     ]
    }
   ],
   "source": [
    "print(matrix_3)"
   ]
  },
  {
   "cell_type": "markdown",
   "id": "c88d7538",
   "metadata": {},
   "source": [
    "creating the null matrix or the zero matrix"
   ]
  },
  {
   "cell_type": "code",
   "execution_count": 27,
   "id": "0647f74e",
   "metadata": {},
   "outputs": [],
   "source": [
    "null_matrix = np.zeros((4,4), dtype = int)"
   ]
  },
  {
   "cell_type": "code",
   "execution_count": 28,
   "id": "2fe29ceb",
   "metadata": {},
   "outputs": [
    {
     "name": "stdout",
     "output_type": "stream",
     "text": [
      "[[0 0 0 0]\n",
      " [0 0 0 0]\n",
      " [0 0 0 0]\n",
      " [0 0 0 0]]\n"
     ]
    }
   ],
   "source": [
    "print(null_matrix)"
   ]
  },
  {
   "cell_type": "markdown",
   "id": "893d4bba",
   "metadata": {},
   "source": [
    "creating an identity matrix in python"
   ]
  },
  {
   "cell_type": "code",
   "execution_count": 29,
   "id": "15419df7",
   "metadata": {},
   "outputs": [],
   "source": [
    "#all the diagonal values will be one"
   ]
  },
  {
   "cell_type": "code",
   "execution_count": 30,
   "id": "bf548494",
   "metadata": {},
   "outputs": [],
   "source": [
    "identity_matrix = np.eye(3,3)"
   ]
  },
  {
   "cell_type": "code",
   "execution_count": 31,
   "id": "b78c2fdb",
   "metadata": {},
   "outputs": [
    {
     "name": "stdout",
     "output_type": "stream",
     "text": [
      "[[1. 0. 0.]\n",
      " [0. 1. 0.]\n",
      " [0. 0. 1.]]\n"
     ]
    }
   ],
   "source": [
    "print(identity_matrix)"
   ]
  },
  {
   "cell_type": "markdown",
   "id": "41171f3c",
   "metadata": {},
   "source": [
    "transpose of the matrix in python"
   ]
  },
  {
   "cell_type": "code",
   "execution_count": 36,
   "id": "d9b634df",
   "metadata": {},
   "outputs": [],
   "source": [
    "random_matrix = np.random.randint(100, size = (4,5))"
   ]
  },
  {
   "cell_type": "code",
   "execution_count": 37,
   "id": "9321597b",
   "metadata": {},
   "outputs": [
    {
     "name": "stdout",
     "output_type": "stream",
     "text": [
      "[[48  3 59 73 92]\n",
      " [19 37 23 92 25]\n",
      " [60 90 99 90 60]\n",
      " [28 64 52 43 77]]\n"
     ]
    }
   ],
   "source": [
    "print(random_matrix)"
   ]
  },
  {
   "cell_type": "code",
   "execution_count": 38,
   "id": "91460b74",
   "metadata": {},
   "outputs": [],
   "source": [
    "transpose_of_a = np.transpose(random_matrix)"
   ]
  },
  {
   "cell_type": "code",
   "execution_count": 39,
   "id": "67e4129b",
   "metadata": {},
   "outputs": [
    {
     "name": "stdout",
     "output_type": "stream",
     "text": [
      "[[48 19 60 28]\n",
      " [ 3 37 90 64]\n",
      " [59 23 99 52]\n",
      " [73 92 90 43]\n",
      " [92 25 60 77]]\n"
     ]
    }
   ],
   "source": [
    "print(transpose_of_a)"
   ]
  },
  {
   "cell_type": "code",
   "execution_count": 40,
   "id": "7cf3122f",
   "metadata": {},
   "outputs": [],
   "source": [
    "#matrix operatoin in python"
   ]
  },
  {
   "cell_type": "markdown",
   "id": "0842cd3c",
   "metadata": {},
   "source": [
    "## matrix addiction \n",
    "two matrices can be added only if they have the same shape that is both the matrix should have the same number of rows and columns\n",
    "all the elements will be added adjacently\n",
    "## matrix substraction \n",
    "similar to the matrix addiction above\n",
    "## multiplying a matrix by a scalar\n",
    "each element of the matrix will be multipied by the scalar number\n",
    "magnifing the values of the elements of the matrix by a factor\n",
    "## vectors are a type of matrix with either one row or one column\n",
    "## multipling two matrices \n",
    "Rule - the number of columns in the first matrix should be equal to the number of rows in the second matrix\n",
    "- the resultant matrix will have the same number of rows as the first matrix and the same number of columns as the second matrix\n"
   ]
  },
  {
   "cell_type": "code",
   "execution_count": 48,
   "id": "87291533",
   "metadata": {},
   "outputs": [],
   "source": [
    "#implementing the above matrix operation in python\n",
    "#matrix addition \n",
    "matrix_1 = np.random.randint(100, size = (5,5))"
   ]
  },
  {
   "cell_type": "code",
   "execution_count": 45,
   "id": "9e1dd107",
   "metadata": {},
   "outputs": [],
   "source": [
    "matrix_2 = np.random.randint(200, size = (5,5))"
   ]
  },
  {
   "cell_type": "code",
   "execution_count": 46,
   "id": "dae38357",
   "metadata": {},
   "outputs": [],
   "source": [
    "matrix_3 =  matrix_1 + matrix_2"
   ]
  },
  {
   "cell_type": "code",
   "execution_count": 47,
   "id": "6a08fb00",
   "metadata": {},
   "outputs": [
    {
     "name": "stdout",
     "output_type": "stream",
     "text": [
      "[[289 181 215 160 193]\n",
      " [121 132  65 196 170]\n",
      " [196 125 160 184  65]\n",
      " [249  59 150  76 201]\n",
      " [ 78 136 130 145 157]]\n"
     ]
    }
   ],
   "source": [
    "print(matrix_3)"
   ]
  },
  {
   "cell_type": "code",
   "execution_count": 49,
   "id": "5c1d2d16",
   "metadata": {},
   "outputs": [],
   "source": [
    "a= np.array([[2,3,5],[5,6,7]])"
   ]
  },
  {
   "cell_type": "code",
   "execution_count": 50,
   "id": "7d6392a7",
   "metadata": {},
   "outputs": [],
   "source": [
    "b= np.array([[3,5,6],[1,4,5],[6,8,9]])"
   ]
  },
  {
   "cell_type": "code",
   "execution_count": 51,
   "id": "31f46200",
   "metadata": {},
   "outputs": [
    {
     "ename": "ValueError",
     "evalue": "operands could not be broadcast together with shapes (2,3) (3,3) ",
     "output_type": "error",
     "traceback": [
      "\u001b[1;31m---------------------------------------------------------------------------\u001b[0m",
      "\u001b[1;31mValueError\u001b[0m                                Traceback (most recent call last)",
      "\u001b[1;32m~\\AppData\\Local\\Temp/ipykernel_18352/3404894612.py\u001b[0m in \u001b[0;36m<module>\u001b[1;34m\u001b[0m\n\u001b[1;32m----> 1\u001b[1;33m \u001b[0mbv\u001b[0m\u001b[1;33m=\u001b[0m \u001b[0ma\u001b[0m\u001b[1;33m*\u001b[0m\u001b[0mb\u001b[0m\u001b[1;33m\u001b[0m\u001b[1;33m\u001b[0m\u001b[0m\n\u001b[0m",
      "\u001b[1;31mValueError\u001b[0m: operands could not be broadcast together with shapes (2,3) (3,3) "
     ]
    }
   ],
   "source": [
    "bv= a*b"
   ]
  },
  {
   "cell_type": "code",
   "execution_count": 52,
   "id": "c691c156",
   "metadata": {},
   "outputs": [],
   "source": [
    "sum = np.add(matrix_1 , matrix_2)"
   ]
  },
  {
   "cell_type": "code",
   "execution_count": 53,
   "id": "9d7c1ddb",
   "metadata": {},
   "outputs": [
    {
     "name": "stdout",
     "output_type": "stream",
     "text": [
      "[[224 203 248  91 184]\n",
      " [167 181 133 234 169]\n",
      " [152  75  91 133  98]\n",
      " [253  62 111  82 213]\n",
      " [ 64 201 146 158 127]]\n"
     ]
    }
   ],
   "source": [
    "print(sum)"
   ]
  },
  {
   "cell_type": "code",
   "execution_count": 54,
   "id": "4b457ebb",
   "metadata": {},
   "outputs": [
    {
     "name": "stdout",
     "output_type": "stream",
     "text": [
      "[[26 78 51 18 43]\n",
      " [57 56 98 71  1]\n",
      " [ 5 30  2 27 89]\n",
      " [71  7 37  8 83]\n",
      " [43 77 85 77 51]]\n"
     ]
    }
   ],
   "source": [
    "print(matrix_1)"
   ]
  },
  {
   "cell_type": "code",
   "execution_count": 55,
   "id": "c9c15517",
   "metadata": {},
   "outputs": [
    {
     "name": "stdout",
     "output_type": "stream",
     "text": [
      "[[198 125 197  73 141]\n",
      " [110 125  35 163 168]\n",
      " [147  45  89 106   9]\n",
      " [182  55  74  74 130]\n",
      " [ 21 124  61  81  76]]\n"
     ]
    }
   ],
   "source": [
    "print(matrix_2)"
   ]
  },
  {
   "cell_type": "code",
   "execution_count": 59,
   "id": "3daf902c",
   "metadata": {},
   "outputs": [],
   "source": [
    "#matrix substraction \n",
    "difference = np.subtract(matrix_1, matrix_2)"
   ]
  },
  {
   "cell_type": "code",
   "execution_count": 60,
   "id": "0743a627",
   "metadata": {},
   "outputs": [
    {
     "name": "stdout",
     "output_type": "stream",
     "text": [
      "[[-172  -47 -146  -55  -98]\n",
      " [ -53  -69   63  -92 -167]\n",
      " [-142  -15  -87  -79   80]\n",
      " [-111  -48  -37  -66  -47]\n",
      " [  22  -47   24   -4  -25]]\n"
     ]
    }
   ],
   "source": [
    "print(difference)"
   ]
  },
  {
   "cell_type": "code",
   "execution_count": 61,
   "id": "143646c3",
   "metadata": {},
   "outputs": [],
   "source": [
    "#multiplying a matrix by a scalar\n",
    "x= 4\n",
    "product = np.multiply(x, matrix_1)"
   ]
  },
  {
   "cell_type": "code",
   "execution_count": 62,
   "id": "ff74d831",
   "metadata": {},
   "outputs": [
    {
     "name": "stdout",
     "output_type": "stream",
     "text": [
      "[[104 312 204  72 172]\n",
      " [228 224 392 284   4]\n",
      " [ 20 120   8 108 356]\n",
      " [284  28 148  32 332]\n",
      " [172 308 340 308 204]]\n"
     ]
    }
   ],
   "source": [
    "print(product)"
   ]
  },
  {
   "cell_type": "code",
   "execution_count": 63,
   "id": "5e230c88",
   "metadata": {},
   "outputs": [],
   "source": [
    "#multiplying two matrices in python\n",
    "matrix_1 = np.random.randint(5, size = (5,3))\n",
    "matrix_2 = np.random.randint(7, size = (3,5))"
   ]
  },
  {
   "cell_type": "code",
   "execution_count": 64,
   "id": "3306d7d7",
   "metadata": {},
   "outputs": [
    {
     "name": "stdout",
     "output_type": "stream",
     "text": [
      "[[0 4 2]\n",
      " [2 0 0]\n",
      " [1 2 4]\n",
      " [1 4 4]\n",
      " [0 3 0]]\n",
      "[[3 0 0 4 5]\n",
      " [6 4 3 6 4]\n",
      " [3 0 0 2 4]]\n"
     ]
    }
   ],
   "source": [
    "print(matrix_1)\n",
    "print(matrix_2)"
   ]
  },
  {
   "cell_type": "code",
   "execution_count": 65,
   "id": "71b83551",
   "metadata": {},
   "outputs": [],
   "source": [
    "product = np.dot(matrix_1, matrix_2)"
   ]
  },
  {
   "cell_type": "code",
   "execution_count": 66,
   "id": "951e78e8",
   "metadata": {},
   "outputs": [
    {
     "name": "stdout",
     "output_type": "stream",
     "text": [
      "[[30 16 12 28 24]\n",
      " [ 6  0  0  8 10]\n",
      " [27  8  6 24 29]\n",
      " [39 16 12 36 37]\n",
      " [18 12  9 18 12]]\n"
     ]
    }
   ],
   "source": [
    "print(product)"
   ]
  },
  {
   "cell_type": "code",
   "execution_count": 67,
   "id": "93688d37",
   "metadata": {},
   "outputs": [
    {
     "data": {
      "text/plain": [
       "(5, 5)"
      ]
     },
     "execution_count": 67,
     "metadata": {},
     "output_type": "execute_result"
    }
   ],
   "source": [
    "product.shape"
   ]
  },
  {
   "cell_type": "code",
   "execution_count": null,
   "id": "5b662dd3",
   "metadata": {},
   "outputs": [],
   "source": []
  }
 ],
 "metadata": {
  "kernelspec": {
   "display_name": "Python 3 (ipykernel)",
   "language": "python",
   "name": "python3"
  },
  "language_info": {
   "codemirror_mode": {
    "name": "ipython",
    "version": 3
   },
   "file_extension": ".py",
   "mimetype": "text/x-python",
   "name": "python",
   "nbconvert_exporter": "python",
   "pygments_lexer": "ipython3",
   "version": "3.9.7"
  }
 },
 "nbformat": 4,
 "nbformat_minor": 5
}
